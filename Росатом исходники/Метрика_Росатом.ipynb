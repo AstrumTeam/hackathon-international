{
  "nbformat": 4,
  "nbformat_minor": 0,
  "metadata": {
    "colab": {
      "provenance": []
    },
    "kernelspec": {
      "name": "python3",
      "display_name": "Python 3"
    },
    "language_info": {
      "name": "python"
    }
  },
  "cells": [
    {
      "cell_type": "code",
      "execution_count": 60,
      "metadata": {
        "colab": {
          "base_uri": "https://localhost:8080/"
        },
        "id": "F2ko7ec4WDrK",
        "outputId": "d10bb209-a08a-483a-c37e-226e09bb2ac7"
      },
      "outputs": [
        {
          "output_type": "stream",
          "name": "stdout",
          "text": [
            "Drive already mounted at /content/drive; to attempt to forcibly remount, call drive.mount(\"/content/drive\", force_remount=True).\n"
          ]
        }
      ],
      "source": [
        "from google.colab import drive\n",
        "drive.mount(\"/content/drive\")"
      ]
    },
    {
      "cell_type": "code",
      "source": [
        "!dir"
      ],
      "metadata": {
        "colab": {
          "base_uri": "https://localhost:8080/"
        },
        "id": "fkVg3KmaXPCU",
        "outputId": "a03429b6-8665-46e0-a891-f510fb14896d"
      },
      "execution_count": 62,
      "outputs": [
        {
          "output_type": "stream",
          "name": "stdout",
          "text": [
            "imgs  labels  labels_with_text\n"
          ]
        }
      ]
    },
    {
      "cell_type": "markdown",
      "source": [
        "#Преобразование изображений и разметки в табличный вид"
      ],
      "metadata": {
        "id": "tQFFMoAip9hG"
      }
    },
    {
      "cell_type": "code",
      "source": [
        "import os\n",
        "import cv2\n",
        "import matplotlib.pyplot as plt\n",
        "import pandas as pd\n",
        "import numpy as np\n",
        "\n",
        "# Путь к папкам\n",
        "images_dir = 'imgs'  # Папка с изображениями\n",
        "labels_dir = 'labels'  # Папка с разметками\n",
        "labels_text_dir = \"labels_with_text\"\n",
        "\n",
        "# Список для хранения данных таблицы\n",
        "data = []\n",
        "\n",
        "# Обход папки с изображениями\n",
        "for image_file in os.listdir(images_dir):\n",
        "    if image_file.endswith(('.png', '.jpg', '.jpeg', '.JPG')):\n",
        "        image_path = os.path.join(images_dir, image_file)\n",
        "        label_path = os.path.join(labels_dir, os.path.splitext(image_file)[0] + '.txt')\n",
        "        label_text_path = os.path.join(labels_text_dir, os.path.splitext(image_file)[0] + '.bbox')\n",
        "\n",
        "        # Проверка наличия файла разметки\n",
        "        if os.path.exists(label_path):\n",
        "\n",
        "\n",
        "            # Чтение текстовых меток\n",
        "            if os.path.exists(label_text_path):\n",
        "                with open(label_text_path, 'r') as f:\n",
        "                    label_text = ''.join(f.readlines())\n",
        "                    label_text = label_text.replace('\\n', '')\n",
        "            else:\n",
        "                label_text = np.NaN\n",
        "\n",
        "\n",
        "            # Чтение текстовых меток\n",
        "            if os.path.exists(label_path):\n",
        "                with open(label_path, 'r') as f:\n",
        "                    label = ''.join(f.readlines())\n",
        "            else:\n",
        "                label = np.NaN\n",
        "\n",
        "            # Добавление данных в таблицу\n",
        "            data.append([image_file, label, label_text])\n",
        "\n",
        "# Создание DataFrame с изображениями и текстовыми метками\n",
        "df = pd.DataFrame(data, columns=['image_file', 'label', 'label_text'])\n",
        "\n"
      ],
      "metadata": {
        "id": "Cmb-MgxpXTgq"
      },
      "execution_count": 63,
      "outputs": []
    },
    {
      "cell_type": "code",
      "source": [
        "df"
      ],
      "metadata": {
        "colab": {
          "base_uri": "https://localhost:8080/",
          "height": 423
        },
        "id": "oEo2yiESoUsS",
        "outputId": "f70bb22d-ce5f-4e94-9ac9-77498df9306f"
      },
      "execution_count": 64,
      "outputs": [
        {
          "output_type": "execute_result",
          "data": {
            "text/plain": [
              "    image_file                                              label  \\\n",
              "0       12.JPG            0 0.580977 0.334656 0.277530 0.419312\\n   \n",
              "1        1.JPG  0 0.659722 0.350446 0.414683 0.040179\\n0 0.795...   \n",
              "2      102.JPG            0 0.436012 0.569114 0.496032 0.793651\\n   \n",
              "3      120.JPG            0 0.587302 0.509673 0.791005 0.470238\\n   \n",
              "4      299.jpg            0 0.477766 0.447012 0.378501 0.285247\\n   \n",
              "..         ...                                                ...   \n",
              "248     96.JPG            0 0.534375 0.399609 0.737500 0.661719\\n   \n",
              "249     92.jpg            0 0.476797 0.380637 0.692157 0.123039\\n   \n",
              "250     94.JPG            0 0.576562 0.473828 0.726042 0.666406\\n   \n",
              "251     83.jpg  0 0.491830 0.744118 0.509150 0.113725\\n0 0.251...   \n",
              "252     86.jpg  0 0.147059 0.702451 0.275817 0.466667\\n0 0.850...   \n",
              "\n",
              "                       label_text  \n",
              "0              \"1753-30-1013 117\"  \n",
              "1    \"АНЕМ.492664.500-03LP 497/2\"  \n",
              "2            \"АМ117.07.01.211 29\"  \n",
              "3            \"АМ117.07.01.220 13\"  \n",
              "4          \"АМ116.06.00.901-03 1\"  \n",
              "..                            ...  \n",
              "248          \"АМ117.07.01.211 26\"  \n",
              "249                \"1391-30-1151\"  \n",
              "250          \"АМ117.07.01.211 25\"  \n",
              "251       \"195-30-1221 3422-3433\"  \n",
              "252       \"195-30-1221 3583-3594\"  \n",
              "\n",
              "[253 rows x 3 columns]"
            ],
            "text/html": [
              "\n",
              "  <div id=\"df-a03f4610-cc2c-4ad2-9080-7d2ec6f51257\" class=\"colab-df-container\">\n",
              "    <div>\n",
              "<style scoped>\n",
              "    .dataframe tbody tr th:only-of-type {\n",
              "        vertical-align: middle;\n",
              "    }\n",
              "\n",
              "    .dataframe tbody tr th {\n",
              "        vertical-align: top;\n",
              "    }\n",
              "\n",
              "    .dataframe thead th {\n",
              "        text-align: right;\n",
              "    }\n",
              "</style>\n",
              "<table border=\"1\" class=\"dataframe\">\n",
              "  <thead>\n",
              "    <tr style=\"text-align: right;\">\n",
              "      <th></th>\n",
              "      <th>image_file</th>\n",
              "      <th>label</th>\n",
              "      <th>label_text</th>\n",
              "    </tr>\n",
              "  </thead>\n",
              "  <tbody>\n",
              "    <tr>\n",
              "      <th>0</th>\n",
              "      <td>12.JPG</td>\n",
              "      <td>0 0.580977 0.334656 0.277530 0.419312\\n</td>\n",
              "      <td>\"1753-30-1013 117\"</td>\n",
              "    </tr>\n",
              "    <tr>\n",
              "      <th>1</th>\n",
              "      <td>1.JPG</td>\n",
              "      <td>0 0.659722 0.350446 0.414683 0.040179\\n0 0.795...</td>\n",
              "      <td>\"АНЕМ.492664.500-03LP 497/2\"</td>\n",
              "    </tr>\n",
              "    <tr>\n",
              "      <th>2</th>\n",
              "      <td>102.JPG</td>\n",
              "      <td>0 0.436012 0.569114 0.496032 0.793651\\n</td>\n",
              "      <td>\"АМ117.07.01.211 29\"</td>\n",
              "    </tr>\n",
              "    <tr>\n",
              "      <th>3</th>\n",
              "      <td>120.JPG</td>\n",
              "      <td>0 0.587302 0.509673 0.791005 0.470238\\n</td>\n",
              "      <td>\"АМ117.07.01.220 13\"</td>\n",
              "    </tr>\n",
              "    <tr>\n",
              "      <th>4</th>\n",
              "      <td>299.jpg</td>\n",
              "      <td>0 0.477766 0.447012 0.378501 0.285247\\n</td>\n",
              "      <td>\"АМ116.06.00.901-03 1\"</td>\n",
              "    </tr>\n",
              "    <tr>\n",
              "      <th>...</th>\n",
              "      <td>...</td>\n",
              "      <td>...</td>\n",
              "      <td>...</td>\n",
              "    </tr>\n",
              "    <tr>\n",
              "      <th>248</th>\n",
              "      <td>96.JPG</td>\n",
              "      <td>0 0.534375 0.399609 0.737500 0.661719\\n</td>\n",
              "      <td>\"АМ117.07.01.211 26\"</td>\n",
              "    </tr>\n",
              "    <tr>\n",
              "      <th>249</th>\n",
              "      <td>92.jpg</td>\n",
              "      <td>0 0.476797 0.380637 0.692157 0.123039\\n</td>\n",
              "      <td>\"1391-30-1151\"</td>\n",
              "    </tr>\n",
              "    <tr>\n",
              "      <th>250</th>\n",
              "      <td>94.JPG</td>\n",
              "      <td>0 0.576562 0.473828 0.726042 0.666406\\n</td>\n",
              "      <td>\"АМ117.07.01.211 25\"</td>\n",
              "    </tr>\n",
              "    <tr>\n",
              "      <th>251</th>\n",
              "      <td>83.jpg</td>\n",
              "      <td>0 0.491830 0.744118 0.509150 0.113725\\n0 0.251...</td>\n",
              "      <td>\"195-30-1221 3422-3433\"</td>\n",
              "    </tr>\n",
              "    <tr>\n",
              "      <th>252</th>\n",
              "      <td>86.jpg</td>\n",
              "      <td>0 0.147059 0.702451 0.275817 0.466667\\n0 0.850...</td>\n",
              "      <td>\"195-30-1221 3583-3594\"</td>\n",
              "    </tr>\n",
              "  </tbody>\n",
              "</table>\n",
              "<p>253 rows × 3 columns</p>\n",
              "</div>\n",
              "    <div class=\"colab-df-buttons\">\n",
              "\n",
              "  <div class=\"colab-df-container\">\n",
              "    <button class=\"colab-df-convert\" onclick=\"convertToInteractive('df-a03f4610-cc2c-4ad2-9080-7d2ec6f51257')\"\n",
              "            title=\"Convert this dataframe to an interactive table.\"\n",
              "            style=\"display:none;\">\n",
              "\n",
              "  <svg xmlns=\"http://www.w3.org/2000/svg\" height=\"24px\" viewBox=\"0 -960 960 960\">\n",
              "    <path d=\"M120-120v-720h720v720H120Zm60-500h600v-160H180v160Zm220 220h160v-160H400v160Zm0 220h160v-160H400v160ZM180-400h160v-160H180v160Zm440 0h160v-160H620v160ZM180-180h160v-160H180v160Zm440 0h160v-160H620v160Z\"/>\n",
              "  </svg>\n",
              "    </button>\n",
              "\n",
              "  <style>\n",
              "    .colab-df-container {\n",
              "      display:flex;\n",
              "      gap: 12px;\n",
              "    }\n",
              "\n",
              "    .colab-df-convert {\n",
              "      background-color: #E8F0FE;\n",
              "      border: none;\n",
              "      border-radius: 50%;\n",
              "      cursor: pointer;\n",
              "      display: none;\n",
              "      fill: #1967D2;\n",
              "      height: 32px;\n",
              "      padding: 0 0 0 0;\n",
              "      width: 32px;\n",
              "    }\n",
              "\n",
              "    .colab-df-convert:hover {\n",
              "      background-color: #E2EBFA;\n",
              "      box-shadow: 0px 1px 2px rgba(60, 64, 67, 0.3), 0px 1px 3px 1px rgba(60, 64, 67, 0.15);\n",
              "      fill: #174EA6;\n",
              "    }\n",
              "\n",
              "    .colab-df-buttons div {\n",
              "      margin-bottom: 4px;\n",
              "    }\n",
              "\n",
              "    [theme=dark] .colab-df-convert {\n",
              "      background-color: #3B4455;\n",
              "      fill: #D2E3FC;\n",
              "    }\n",
              "\n",
              "    [theme=dark] .colab-df-convert:hover {\n",
              "      background-color: #434B5C;\n",
              "      box-shadow: 0px 1px 3px 1px rgba(0, 0, 0, 0.15);\n",
              "      filter: drop-shadow(0px 1px 2px rgba(0, 0, 0, 0.3));\n",
              "      fill: #FFFFFF;\n",
              "    }\n",
              "  </style>\n",
              "\n",
              "    <script>\n",
              "      const buttonEl =\n",
              "        document.querySelector('#df-a03f4610-cc2c-4ad2-9080-7d2ec6f51257 button.colab-df-convert');\n",
              "      buttonEl.style.display =\n",
              "        google.colab.kernel.accessAllowed ? 'block' : 'none';\n",
              "\n",
              "      async function convertToInteractive(key) {\n",
              "        const element = document.querySelector('#df-a03f4610-cc2c-4ad2-9080-7d2ec6f51257');\n",
              "        const dataTable =\n",
              "          await google.colab.kernel.invokeFunction('convertToInteractive',\n",
              "                                                    [key], {});\n",
              "        if (!dataTable) return;\n",
              "\n",
              "        const docLinkHtml = 'Like what you see? Visit the ' +\n",
              "          '<a target=\"_blank\" href=https://colab.research.google.com/notebooks/data_table.ipynb>data table notebook</a>'\n",
              "          + ' to learn more about interactive tables.';\n",
              "        element.innerHTML = '';\n",
              "        dataTable['output_type'] = 'display_data';\n",
              "        await google.colab.output.renderOutput(dataTable, element);\n",
              "        const docLink = document.createElement('div');\n",
              "        docLink.innerHTML = docLinkHtml;\n",
              "        element.appendChild(docLink);\n",
              "      }\n",
              "    </script>\n",
              "  </div>\n",
              "\n",
              "\n",
              "<div id=\"df-36fbe22f-eb36-43bd-b500-c30f34e29a0a\">\n",
              "  <button class=\"colab-df-quickchart\" onclick=\"quickchart('df-36fbe22f-eb36-43bd-b500-c30f34e29a0a')\"\n",
              "            title=\"Suggest charts\"\n",
              "            style=\"display:none;\">\n",
              "\n",
              "<svg xmlns=\"http://www.w3.org/2000/svg\" height=\"24px\"viewBox=\"0 0 24 24\"\n",
              "     width=\"24px\">\n",
              "    <g>\n",
              "        <path d=\"M19 3H5c-1.1 0-2 .9-2 2v14c0 1.1.9 2 2 2h14c1.1 0 2-.9 2-2V5c0-1.1-.9-2-2-2zM9 17H7v-7h2v7zm4 0h-2V7h2v10zm4 0h-2v-4h2v4z\"/>\n",
              "    </g>\n",
              "</svg>\n",
              "  </button>\n",
              "\n",
              "<style>\n",
              "  .colab-df-quickchart {\n",
              "      --bg-color: #E8F0FE;\n",
              "      --fill-color: #1967D2;\n",
              "      --hover-bg-color: #E2EBFA;\n",
              "      --hover-fill-color: #174EA6;\n",
              "      --disabled-fill-color: #AAA;\n",
              "      --disabled-bg-color: #DDD;\n",
              "  }\n",
              "\n",
              "  [theme=dark] .colab-df-quickchart {\n",
              "      --bg-color: #3B4455;\n",
              "      --fill-color: #D2E3FC;\n",
              "      --hover-bg-color: #434B5C;\n",
              "      --hover-fill-color: #FFFFFF;\n",
              "      --disabled-bg-color: #3B4455;\n",
              "      --disabled-fill-color: #666;\n",
              "  }\n",
              "\n",
              "  .colab-df-quickchart {\n",
              "    background-color: var(--bg-color);\n",
              "    border: none;\n",
              "    border-radius: 50%;\n",
              "    cursor: pointer;\n",
              "    display: none;\n",
              "    fill: var(--fill-color);\n",
              "    height: 32px;\n",
              "    padding: 0;\n",
              "    width: 32px;\n",
              "  }\n",
              "\n",
              "  .colab-df-quickchart:hover {\n",
              "    background-color: var(--hover-bg-color);\n",
              "    box-shadow: 0 1px 2px rgba(60, 64, 67, 0.3), 0 1px 3px 1px rgba(60, 64, 67, 0.15);\n",
              "    fill: var(--button-hover-fill-color);\n",
              "  }\n",
              "\n",
              "  .colab-df-quickchart-complete:disabled,\n",
              "  .colab-df-quickchart-complete:disabled:hover {\n",
              "    background-color: var(--disabled-bg-color);\n",
              "    fill: var(--disabled-fill-color);\n",
              "    box-shadow: none;\n",
              "  }\n",
              "\n",
              "  .colab-df-spinner {\n",
              "    border: 2px solid var(--fill-color);\n",
              "    border-color: transparent;\n",
              "    border-bottom-color: var(--fill-color);\n",
              "    animation:\n",
              "      spin 1s steps(1) infinite;\n",
              "  }\n",
              "\n",
              "  @keyframes spin {\n",
              "    0% {\n",
              "      border-color: transparent;\n",
              "      border-bottom-color: var(--fill-color);\n",
              "      border-left-color: var(--fill-color);\n",
              "    }\n",
              "    20% {\n",
              "      border-color: transparent;\n",
              "      border-left-color: var(--fill-color);\n",
              "      border-top-color: var(--fill-color);\n",
              "    }\n",
              "    30% {\n",
              "      border-color: transparent;\n",
              "      border-left-color: var(--fill-color);\n",
              "      border-top-color: var(--fill-color);\n",
              "      border-right-color: var(--fill-color);\n",
              "    }\n",
              "    40% {\n",
              "      border-color: transparent;\n",
              "      border-right-color: var(--fill-color);\n",
              "      border-top-color: var(--fill-color);\n",
              "    }\n",
              "    60% {\n",
              "      border-color: transparent;\n",
              "      border-right-color: var(--fill-color);\n",
              "    }\n",
              "    80% {\n",
              "      border-color: transparent;\n",
              "      border-right-color: var(--fill-color);\n",
              "      border-bottom-color: var(--fill-color);\n",
              "    }\n",
              "    90% {\n",
              "      border-color: transparent;\n",
              "      border-bottom-color: var(--fill-color);\n",
              "    }\n",
              "  }\n",
              "</style>\n",
              "\n",
              "  <script>\n",
              "    async function quickchart(key) {\n",
              "      const quickchartButtonEl =\n",
              "        document.querySelector('#' + key + ' button');\n",
              "      quickchartButtonEl.disabled = true;  // To prevent multiple clicks.\n",
              "      quickchartButtonEl.classList.add('colab-df-spinner');\n",
              "      try {\n",
              "        const charts = await google.colab.kernel.invokeFunction(\n",
              "            'suggestCharts', [key], {});\n",
              "      } catch (error) {\n",
              "        console.error('Error during call to suggestCharts:', error);\n",
              "      }\n",
              "      quickchartButtonEl.classList.remove('colab-df-spinner');\n",
              "      quickchartButtonEl.classList.add('colab-df-quickchart-complete');\n",
              "    }\n",
              "    (() => {\n",
              "      let quickchartButtonEl =\n",
              "        document.querySelector('#df-36fbe22f-eb36-43bd-b500-c30f34e29a0a button');\n",
              "      quickchartButtonEl.style.display =\n",
              "        google.colab.kernel.accessAllowed ? 'block' : 'none';\n",
              "    })();\n",
              "  </script>\n",
              "</div>\n",
              "    </div>\n",
              "  </div>\n"
            ],
            "application/vnd.google.colaboratory.intrinsic+json": {
              "type": "dataframe",
              "variable_name": "df",
              "summary": "{\n  \"name\": \"df\",\n  \"rows\": 253,\n  \"fields\": [\n    {\n      \"column\": \"image_file\",\n      \"properties\": {\n        \"dtype\": \"string\",\n        \"num_unique_values\": 253,\n        \"samples\": [\n          \"447.jpg\",\n          \"2.JPG\",\n          \"260.JPG\"\n        ],\n        \"semantic_type\": \"\",\n        \"description\": \"\"\n      }\n    },\n    {\n      \"column\": \"label\",\n      \"properties\": {\n        \"dtype\": \"string\",\n        \"num_unique_values\": 253,\n        \"samples\": [\n          \"0 0.438562 0.510539 0.585621 0.175980\\n\",\n          \"0 0.653439 0.326637 0.429894 0.048611\\n0 0.793981 0.389757 0.154101 0.044395\\n\",\n          \"0 0.497396 0.479687 0.521875 0.164062\\n\"\n        ],\n        \"semantic_type\": \"\",\n        \"description\": \"\"\n      }\n    },\n    {\n      \"column\": \"label_text\",\n      \"properties\": {\n        \"dtype\": \"category\",\n        \"num_unique_values\": 126,\n        \"samples\": [\n          \"\\\"195-30-1285 2666\\\"\",\n          \"\\\"\\u0410\\u041c117.07.01.220 15\\\"\",\n          \"\\\"195-30-1285 2670\\\"\"\n        ],\n        \"semantic_type\": \"\",\n        \"description\": \"\"\n      }\n    }\n  ]\n}"
            }
          },
          "metadata": {},
          "execution_count": 64
        }
      ]
    },
    {
      "cell_type": "markdown",
      "source": [
        "#Создание submission.csv и grounded_true.csv"
      ],
      "metadata": {
        "id": "XrVFOVWFqN3c"
      }
    },
    {
      "cell_type": "code",
      "source": [
        "gt = df"
      ],
      "metadata": {
        "id": "ksOeH53TuLsC"
      },
      "execution_count": 65,
      "outputs": []
    },
    {
      "cell_type": "code",
      "source": [
        "import pandas as pd\n",
        "import numpy as np\n",
        "\n",
        "def simul_sub(df, columns_to_swap_modify):\n",
        "    len_base_df = len(df)\n",
        "\n",
        "    # Процент строк для удаления и дублирования\n",
        "    fraction_to_remove = 0.5\n",
        "    fraction_to_duplicate = 0.1\n",
        "\n",
        "    num_to_remove = int(len_base_df * fraction_to_remove)\n",
        "    num_to_duplicate = int(len_base_df * fraction_to_duplicate)\n",
        "\n",
        "    # Удаление случайных строк\n",
        "    rows_to_remove = df.sample(num_to_remove).index\n",
        "    data_dropped = df.drop(rows_to_remove)\n",
        "\n",
        "    # Дублирование случайных строк\n",
        "    rows_to_duplicate = data_dropped.sample(num_to_duplicate)\n",
        "    data_final = pd.concat([data_dropped, rows_to_duplicate])\n",
        "    data_final = data_final.reset_index(drop=True)\n",
        "\n",
        "    # Замена значений с вероятностью swap_chance\n",
        "    swap_chance=0.3\n",
        "\n",
        "    for idx in data_final.index:\n",
        "        for column in columns_to_swap_modify:\n",
        "            if np.random.rand() < swap_chance:\n",
        "                # Выбираем случайное значение из того же столбца\n",
        "                random_row = data_final.sample(1).iloc[0]\n",
        "                data_final.at[idx, column] = random_row[column]\n",
        "\n",
        "    return data_final\n"
      ],
      "metadata": {
        "id": "28iiwZ5gt8Ec"
      },
      "execution_count": 66,
      "outputs": []
    },
    {
      "cell_type": "code",
      "source": [
        "sub = simul_sub(gt.copy(), ['label', 'label_text'])"
      ],
      "metadata": {
        "id": "SDHiElZpuI_D"
      },
      "execution_count": 67,
      "outputs": []
    },
    {
      "cell_type": "code",
      "source": [
        "#sub = gt.copy()\n",
        "#sub = sub.iloc[:2]"
      ],
      "metadata": {
        "id": "3hhRDCyn0T_0"
      },
      "execution_count": 68,
      "outputs": []
    },
    {
      "cell_type": "markdown",
      "source": [
        "#Метрика"
      ],
      "metadata": {
        "id": "noEJpGqkykSA"
      }
    },
    {
      "cell_type": "markdown",
      "source": [
        "score = Средний IoU рамок * 0.05 + Средняя посимвольная точность текста * 0.65 + Точность абсолютно верного распознавания текста *0.3"
      ],
      "metadata": {
        "id": "Z_azJym0wj_L"
      }
    },
    {
      "cell_type": "code",
      "source": [
        "!pip install Levenshtein"
      ],
      "metadata": {
        "colab": {
          "base_uri": "https://localhost:8080/"
        },
        "id": "u7jouQbls8g-",
        "outputId": "9b28fe7a-c4a1-49f7-cca3-86a48e76da93"
      },
      "execution_count": 69,
      "outputs": [
        {
          "output_type": "stream",
          "name": "stdout",
          "text": [
            "Requirement already satisfied: Levenshtein in /usr/local/lib/python3.10/dist-packages (0.26.1)\n",
            "Requirement already satisfied: rapidfuzz<4.0.0,>=3.9.0 in /usr/local/lib/python3.10/dist-packages (from Levenshtein) (3.10.1)\n"
          ]
        }
      ]
    },
    {
      "cell_type": "code",
      "source": [
        "from shapely.geometry import box\n",
        "from shapely.ops import unary_union\n",
        "from Levenshtein import ratio\n",
        "import pandas as pd\n",
        "import numpy as np\n",
        "\n",
        "# Функция для преобразования строки label в список bbox\n",
        "def parse_label(label):\n",
        "    try:\n",
        "        boxes = []\n",
        "        for item in label.split('\\n'):\n",
        "            if item:\n",
        "                _, x_center, y_center, width, height = map(float, item.split())\n",
        "                boxes.append([\n",
        "                    x_center - width / 2, y_center - height / 2,\n",
        "                    x_center + width / 2, y_center + height / 2\n",
        "                ])\n",
        "        return boxes\n",
        "    except:\n",
        "        raise Exception(\"Неправильный формат строки 'label'. Ожидается формат: '0 x_center y_center width height\\\\n...'\")\n",
        "\n",
        "# Функция для вычисления совокупного IoU для нескольких bbox\n",
        "def calculate_total_iou(predicted_boxes, true_boxes):\n",
        "    predicted_polygons = [box(*pred_box) for pred_box in predicted_boxes]\n",
        "    true_polygons = [box(*true_box) for true_box in true_boxes]\n",
        "    predicted_union = unary_union(predicted_polygons)\n",
        "    true_union = unary_union(true_polygons)\n",
        "    intersection_area = predicted_union.intersection(true_union).area\n",
        "    union_area = predicted_union.union(true_union).area\n",
        "    total_iou = intersection_area / union_area if union_area != 0 else 0\n",
        "    return total_iou\n",
        "\n",
        "# Основная функция для расчета метрик\n",
        "def calc_metrics(ground_truth, submission):\n",
        "    ious = []\n",
        "    character_accuracies = []\n",
        "    complete_matches = []\n",
        "\n",
        "    ground_truth['text_is_notna'] = ground_truth['label_text'].notna()\n",
        "\n",
        "    for _, row in ground_truth.iterrows():\n",
        "        image_file = row['image_file']\n",
        "        sub_row = submission[submission['image_file'] == image_file]\n",
        "\n",
        "        if not sub_row.empty:\n",
        "            gt_boxes = parse_label(row['label'])\n",
        "            pred_boxes = parse_label(sub_row.iloc[0]['label'])\n",
        "            iou = calculate_total_iou(pred_boxes, gt_boxes)\n",
        "            ious.append(iou)\n",
        "\n",
        "            if row['text_is_notna']:\n",
        "                char_acc = ratio(row['label_text'], sub_row.iloc[0]['label_text'])\n",
        "                character_accuracies.append(char_acc)\n",
        "                complete_matches.append(row['label_text'] == sub_row.iloc[0]['label_text'])\n",
        "\n",
        "    # Заполняем отсутствующие значения\n",
        "    ious.extend([0] * (len(ground_truth) - len(ious)))\n",
        "    character_accuracies.extend([0] * (ground_truth['text_is_notna'].sum() - len(character_accuracies)))\n",
        "    complete_matches.extend([0] * (ground_truth['text_is_notna'].sum() - len(complete_matches)))\n",
        "\n",
        "    mean_iou = np.mean(ious)\n",
        "    mean_character_accuracy = np.mean(character_accuracies)\n",
        "    accuracy = np.mean(complete_matches)\n",
        "\n",
        "    return {\n",
        "        \"Средний IoU рамок\": mean_iou,\n",
        "        \"Средняя посимвольная точность текста\": mean_character_accuracy,\n",
        "        \"Точность абсолютно верного распознавания текста\": accuracy\n",
        "    }\n",
        "\n",
        "# Расчет финального балла\n",
        "def calc_score(metrics):\n",
        "    score = (metrics[\"Средний IoU рамок\"] * 0.05 +\n",
        "             metrics[\"Средняя посимвольная точность текста\"] * 0.65 +\n",
        "             metrics[\"Точность абсолютно верного распознавания текста\"] * 0.3)\n",
        "    return score\n"
      ],
      "metadata": {
        "id": "1xGWxAwePvIU"
      },
      "execution_count": 70,
      "outputs": []
    },
    {
      "cell_type": "code",
      "source": [
        "metrics = calc_metrics(gt, sub)\n",
        "metrics"
      ],
      "metadata": {
        "colab": {
          "base_uri": "https://localhost:8080/"
        },
        "id": "jd3uotjnP3r7",
        "outputId": "34a39e5f-7baa-4209-cbcf-1a3b900c31ec"
      },
      "execution_count": 71,
      "outputs": [
        {
          "output_type": "execute_result",
          "data": {
            "text/plain": [
              "{'Средний IoU рамок': 0.39177233019443236,\n",
              " 'Средняя посимвольная точность текста': 0.4292842384429139,\n",
              " 'Точность абсолютно верного распознавания текста': 0.35177865612648224}"
            ]
          },
          "metadata": {},
          "execution_count": 71
        }
      ]
    },
    {
      "cell_type": "code",
      "source": [
        "score = calc_score(metrics)\n",
        "score"
      ],
      "metadata": {
        "colab": {
          "base_uri": "https://localhost:8080/"
        },
        "id": "NTXKd-emOWw-",
        "outputId": "3bb428f6-1ddd-413f-b070-40df7f9d0dab"
      },
      "execution_count": 72,
      "outputs": [
        {
          "output_type": "execute_result",
          "data": {
            "text/plain": [
              "0.4041569683355603"
            ]
          },
          "metadata": {},
          "execution_count": 72
        }
      ]
    }
  ]
}